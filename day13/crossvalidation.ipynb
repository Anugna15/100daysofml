{
 "cells": [
  {
   "cell_type": "code",
   "execution_count": 1,
   "id": "32dfe6ab",
   "metadata": {},
   "outputs": [],
   "source": [
    "import pandas as pd\n",
    "import numpy as np\n",
    "from sklearn.model_selection import train_test_split\n",
    "from sklearn.metrics import accuracy_score, precision_score, recall_score, f1_score, roc_auc_score, classification_report\n",
    "from sklearn.ensemble import RandomForestClassifier\n",
    "from sklearn.datasets import load_breast_cancer, load_iris\n",
    "from sklearn.preprocessing import StandardScaler"
   ]
  },
  {
   "cell_type": "code",
   "execution_count": 2,
   "id": "3874ba26",
   "metadata": {},
   "outputs": [],
   "source": [
    "# Load datasets\n",
    "breast_cancer = load_breast_cancer()\n",
    "iris = load_iris()\n",
    "\n",
    "# Breast cancer features and target\n",
    "x = pd.DataFrame(breast_cancer.data, columns=breast_cancer.feature_names)\n",
    "y = pd.Series(breast_cancer.target, name='target')\n",
    "\n",
    "# Iris features and target\n",
    "x_iris = pd.DataFrame(iris.data, columns=iris.feature_names)\n",
    "y_iris = pd.Series(iris.target, name='target')\n"
   ]
  },
  {
   "cell_type": "code",
   "execution_count": 3,
   "id": "fb40b6cc",
   "metadata": {},
   "outputs": [],
   "source": [
    "# Breast cancer: Train-test split\n",
    "x_train, x_test, y_train, y_test = train_test_split(x, y, test_size=0.2, random_state=42)\n",
    "\n",
    "# Iris: Train-test split\n",
    "x_train_iris, x_test_iris, y_train_iris, y_test_iris = train_test_split(x_iris, y_iris, test_size=0.2, random_state=42)\n"
   ]
  },
  {
   "cell_type": "code",
   "execution_count": 4,
   "id": "c3371ab5",
   "metadata": {},
   "outputs": [],
   "source": [
    "scaler_bc = StandardScaler()\n",
    "x_train = pd.DataFrame(scaler_bc.fit_transform(x_train), columns=x_train.columns)\n",
    "x_test = pd.DataFrame(scaler_bc.transform(x_test), columns=x_test.columns)\n",
    "\n",
    "scaler_iris = StandardScaler()\n",
    "x_train_iris = pd.DataFrame(scaler_iris.fit_transform(x_train_iris), columns=x_train_iris.columns)\n",
    "x_test_iris = pd.DataFrame(scaler_iris.transform(x_test_iris), columns=x_test_iris.columns)\n"
   ]
  },
  {
   "cell_type": "code",
   "execution_count": 5,
   "id": "8cd0caf3",
   "metadata": {},
   "outputs": [
    {
     "name": "stdout",
     "output_type": "stream",
     "text": [
      "Breast Cancer Dataset - Accuracy: 0.9649\n",
      "Breast Cancer Dataset - Precision: 0.9589\n",
      "Breast Cancer Dataset - Recall: 0.9859\n",
      "Breast Cancer Dataset - F1 Score: 0.9722\n",
      "Breast Cancer Dataset - ROC AUC: 0.9953\n",
      "Breast Cancer Dataset - Confusion Matrix:\n",
      "Predicted   0   1\n",
      "Actual           \n",
      "0          40   3\n",
      "1           1  70\n",
      "Breast Cancer Dataset - Classification Report:\n",
      "              precision    recall  f1-score   support\n",
      "\n",
      "           0       0.98      0.93      0.95        43\n",
      "           1       0.96      0.99      0.97        71\n",
      "\n",
      "    accuracy                           0.96       114\n",
      "   macro avg       0.97      0.96      0.96       114\n",
      "weighted avg       0.97      0.96      0.96       114\n",
      "\n",
      "\n",
      "Iris Dataset - Accuracy: 1.0000\n",
      "Iris Dataset - Precision: 1.0000\n",
      "Iris Dataset - Recall: 1.0000\n",
      "Iris Dataset - F1 Score: 1.0000\n",
      "Iris Dataset - Confusion Matrix:\n",
      "Predicted   0  1   2\n",
      "Actual              \n",
      "0          10  0   0\n",
      "1           0  9   0\n",
      "2           0  0  11\n",
      "Iris Dataset - Classification Report:\n",
      "              precision    recall  f1-score   support\n",
      "\n",
      "           0       1.00      1.00      1.00        10\n",
      "           1       1.00      1.00      1.00         9\n",
      "           2       1.00      1.00      1.00        11\n",
      "\n",
      "    accuracy                           1.00        30\n",
      "   macro avg       1.00      1.00      1.00        30\n",
      "weighted avg       1.00      1.00      1.00        30\n",
      "\n"
     ]
    }
   ],
   "source": [
    "rf = RandomForestClassifier(n_estimators=100, random_state=42)\n",
    "rf.fit(x_train, y_train)\n",
    "\n",
    "# Predict and evaluate Breast Cancer\n",
    "y_pred = rf.predict(x_test)\n",
    "y_pred_proba = rf.predict_proba(x_test)[:, 1]\n",
    "\n",
    "print(f\"Breast Cancer Dataset - Accuracy: {accuracy_score(y_test, y_pred):.4f}\")\n",
    "print(f\"Breast Cancer Dataset - Precision: {precision_score(y_test, y_pred):.4f}\")\n",
    "print(f\"Breast Cancer Dataset - Recall: {recall_score(y_test, y_pred):.4f}\")\n",
    "print(f\"Breast Cancer Dataset - F1 Score: {f1_score(y_test, y_pred):.4f}\")\n",
    "print(f\"Breast Cancer Dataset - ROC AUC: {roc_auc_score(y_test, y_pred_proba):.4f}\")\n",
    "print(f\"Breast Cancer Dataset - Confusion Matrix:\\n{pd.crosstab(y_test, y_pred, rownames=['Actual'], colnames=['Predicted'])}\")\n",
    "print(f\"Breast Cancer Dataset - Classification Report:\\n{classification_report(y_test, y_pred)}\")\n",
    "\n",
    "# Train Random Forest on Iris\n",
    "rf.fit(x_train_iris, y_train_iris)\n",
    "\n",
    "# Predict and evaluate Iris\n",
    "y_pred_iris = rf.predict(x_test_iris)\n",
    "\n",
    "print(f\"\\nIris Dataset - Accuracy: {accuracy_score(y_test_iris, y_pred_iris):.4f}\")\n",
    "print(f\"Iris Dataset - Precision: {precision_score(y_test_iris, y_pred_iris, average='weighted'):.4f}\")\n",
    "print(f\"Iris Dataset - Recall: {recall_score(y_test_iris, y_pred_iris, average='weighted'):.4f}\")\n",
    "print(f\"Iris Dataset - F1 Score: {f1_score(y_test_iris, y_pred_iris, average='weighted'):.4f}\")\n",
    "print(f\"Iris Dataset - Confusion Matrix:\\n{pd.crosstab(y_test_iris, y_pred_iris, rownames=['Actual'], colnames=['Predicted'])}\")\n",
    "print(f\"Iris Dataset - Classification Report:\\n{classification_report(y_test_iris, y_pred_iris)}\")\n"
   ]
  }
 ],
 "metadata": {
  "kernelspec": {
   "display_name": "base",
   "language": "python",
   "name": "python3"
  },
  "language_info": {
   "codemirror_mode": {
    "name": "ipython",
    "version": 3
   },
   "file_extension": ".py",
   "mimetype": "text/x-python",
   "name": "python",
   "nbconvert_exporter": "python",
   "pygments_lexer": "ipython3",
   "version": "3.12.4"
  }
 },
 "nbformat": 4,
 "nbformat_minor": 5
}
